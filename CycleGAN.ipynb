{
 "cells": [
  {
   "cell_type": "code",
   "execution_count": 1,
   "metadata": {
    "ExecuteTime": {
     "end_time": "2024-03-27T11:41:30.453125Z",
     "start_time": "2024-03-27T11:41:30.449206Z"
    },
    "execution": {
     "iopub.execute_input": "2024-03-27T18:08:10.386511Z",
     "iopub.status.busy": "2024-03-27T18:08:10.386158Z",
     "iopub.status.idle": "2024-03-27T18:08:10.390852Z",
     "shell.execute_reply": "2024-03-27T18:08:10.389668Z",
     "shell.execute_reply.started": "2024-03-27T18:08:10.386483Z"
    },
    "executionInfo": {
     "elapsed": 83,
     "status": "ok",
     "timestamp": 1711541021675,
     "user": {
      "displayName": "Guoshun Yu",
      "userId": "03697553051143014514"
     },
     "user_tz": -480
    },
    "id": "8621977836a5935",
    "trusted": true
   },
   "outputs": [],
   "source": [
    "import torch\n",
    "import torch.nn as nn"
   ]
  },
  {
   "cell_type": "code",
   "execution_count": 2,
   "metadata": {
    "ExecuteTime": {
     "end_time": "2024-03-27T11:41:30.485284Z",
     "start_time": "2024-03-27T11:41:30.479143Z"
    },
    "execution": {
     "iopub.execute_input": "2024-03-27T18:08:10.392977Z",
     "iopub.status.busy": "2024-03-27T18:08:10.392676Z",
     "iopub.status.idle": "2024-03-27T18:08:10.402508Z",
     "shell.execute_reply": "2024-03-27T18:08:10.401638Z",
     "shell.execute_reply.started": "2024-03-27T18:08:10.392953Z"
    },
    "executionInfo": {
     "elapsed": 82,
     "status": "ok",
     "timestamp": 1711541021675,
     "user": {
      "displayName": "Guoshun Yu",
      "userId": "03697553051143014514"
     },
     "user_tz": -480
    },
    "id": "73d98f711101c9cb",
    "trusted": true
   },
   "outputs": [],
   "source": [
    "class ConvolutionalBlock(nn.Module):\n",
    "    def __init__(\n",
    "        self,\n",
    "        in_channel=int,\n",
    "        out_channel=int,\n",
    "        kernel_size=int,\n",
    "        stride=1,\n",
    "        padding=0,\n",
    "        is_downsample=True,\n",
    "        is_activation=True,\n",
    "        **kwargs\n",
    "    ):\n",
    "        super().__init__()\n",
    "        if is_downsample:\n",
    "            self.main = nn.Sequential(\n",
    "                nn.Conv2d(in_channel, out_channel,kernel_size = kernel_size, padding_mode=\"reflect\", **kwargs),\n",
    "                nn.InstanceNorm2d(out_channel),\n",
    "            )\n",
    "            if is_activation:\n",
    "                self.main.append(nn.ReLU(inplace=True))\n",
    "            else:\n",
    "                self.main.append(nn.Identity())\n",
    "        else:\n",
    "            self.main = nn.Sequential(\n",
    "                 nn.ConvTranspose2d(in_channel, out_channel,kernel_size = kernel_size,**kwargs),\n",
    "                 nn.InstanceNorm2d(out_channel)\n",
    "            )\n",
    "            if is_activation:\n",
    "                self.main.append(nn.ReLU(inplace=True))\n",
    "            else:\n",
    "                self.main.append(nn.Identity())\n",
    "\n",
    "    def forward(self,x):\n",
    "        return self.main(x)"
   ]
  },
  {
   "cell_type": "code",
   "execution_count": 3,
   "metadata": {
    "ExecuteTime": {
     "end_time": "2024-03-27T11:41:30.533846Z",
     "start_time": "2024-03-27T11:41:30.527833Z"
    },
    "execution": {
     "iopub.execute_input": "2024-03-27T18:08:10.403687Z",
     "iopub.status.busy": "2024-03-27T18:08:10.403436Z",
     "iopub.status.idle": "2024-03-27T18:08:10.416534Z",
     "shell.execute_reply": "2024-03-27T18:08:10.415721Z",
     "shell.execute_reply.started": "2024-03-27T18:08:10.403665Z"
    },
    "executionInfo": {
     "elapsed": 81,
     "status": "ok",
     "timestamp": 1711541021675,
     "user": {
      "displayName": "Guoshun Yu",
      "userId": "03697553051143014514"
     },
     "user_tz": -480
    },
    "id": "d81e15ab2835e11f",
    "trusted": true
   },
   "outputs": [],
   "source": [
    "class ResidualBlock(nn.Module):\n",
    "    def __init__(self, in_channel: int,out_channel=256 ):\n",
    "        super().__init__()\n",
    "        self.block = nn.Sequential(\n",
    "            ConvolutionalBlock(in_channel, out_channel, is_activation=True, kernel_size=3, padding=1),\n",
    "            ConvolutionalBlock(in_channel, out_channel, is_activation=False, kernel_size=3, padding=1),\n",
    "        )\n",
    "\n",
    "    def forward(self, x):\n",
    "        return self.block(x)"
   ]
  },
  {
   "cell_type": "code",
   "execution_count": 4,
   "metadata": {
    "ExecuteTime": {
     "end_time": "2024-03-27T11:41:30.546930Z",
     "start_time": "2024-03-27T11:41:30.536857Z"
    },
    "execution": {
     "iopub.execute_input": "2024-03-27T18:08:10.418391Z",
     "iopub.status.busy": "2024-03-27T18:08:10.418137Z",
     "iopub.status.idle": "2024-03-27T18:08:10.430007Z",
     "shell.execute_reply": "2024-03-27T18:08:10.429155Z",
     "shell.execute_reply.started": "2024-03-27T18:08:10.418369Z"
    },
    "executionInfo": {
     "elapsed": 81,
     "status": "ok",
     "timestamp": 1711541021675,
     "user": {
      "displayName": "Guoshun Yu",
      "userId": "03697553051143014514"
     },
     "user_tz": -480
    },
    "id": "f6e279433ffedc34",
    "trusted": true
   },
   "outputs": [],
   "source": [
    "class Generator(nn.Module):\n",
    "    def __init__(\n",
    "        self,\n",
    "        in_channel=3,\n",
    "    ):\n",
    "        super().__init__()\n",
    "        channel = [64, 128, 256, 128, 64, 3]\n",
    "        self.layers_1 = nn.Sequential(\n",
    "            nn.Conv2d(in_channel, channel[0],kernel_size=7, stride=1, padding=3, padding_mode=\"reflect\"),\n",
    "            nn.InstanceNorm2d(channel[0]),\n",
    "            nn.ReLU(inplace=True)\n",
    "        )\n",
    "        self.layers_2 =nn.ModuleList(\n",
    "            [ConvolutionalBlock(channel[0], channel[1],kernel_size=3, stride=2, padding=1, is_downsample=True, is_activation=True),\n",
    "             ConvolutionalBlock(channel[1], channel[2],kernel_size=3, stride=2, padding=1, is_downsample=True, is_activation=True)]\n",
    "        )\n",
    "        self.layers_3 = nn.Sequential(\n",
    "            *[ResidualBlock(channel[2]) for _ in range(9)]\n",
    "        )\n",
    "        self.layers_4 = nn.ModuleList(\n",
    "            [ConvolutionalBlock(channel[2], channel[3], kernel_size=3, stride=2, padding=1, is_downsample=False, is_activation=True),\n",
    "             ConvolutionalBlock(channel[3], channel[4], kernel_size=3, stride=2, padding=1, is_downsample=False, is_activation=True)]\n",
    "        )\n",
    "        self.layers_5 = nn.Sequential(\n",
    "            nn.Conv2d(channel[4], channel[5], kernel_size=7, stride=1, padding=3, padding_mode=\"reflect\")\n",
    "        )\n",
    "    def forward(self,x):\n",
    "        x = self.layers_1(x)\n",
    "        for layer in self.layers_2:\n",
    "            x = layer(x)\n",
    "\n",
    "        x = self.layers_3(x)\n",
    "\n",
    "        for layer in self.layers_4:\n",
    "            x = layer(x)\n",
    "        return torch.tanh(self.layers_5(x))"
   ]
  },
  {
   "cell_type": "code",
   "execution_count": 5,
   "metadata": {
    "ExecuteTime": {
     "end_time": "2024-03-27T11:41:30.556723Z",
     "start_time": "2024-03-27T11:41:30.548942Z"
    },
    "execution": {
     "iopub.execute_input": "2024-03-27T18:08:10.431804Z",
     "iopub.status.busy": "2024-03-27T18:08:10.431086Z",
     "iopub.status.idle": "2024-03-27T18:08:10.444411Z",
     "shell.execute_reply": "2024-03-27T18:08:10.443679Z",
     "shell.execute_reply.started": "2024-03-27T18:08:10.431772Z"
    },
    "executionInfo": {
     "elapsed": 81,
     "status": "ok",
     "timestamp": 1711541021675,
     "user": {
      "displayName": "Guoshun Yu",
      "userId": "03697553051143014514"
     },
     "user_tz": -480
    },
    "id": "8edf7ba5d7e9ceb8",
    "trusted": true
   },
   "outputs": [],
   "source": [
    "class Discriminator(nn.Module):\n",
    "\n",
    "    def __init__(self, in_channel=3):\n",
    "        super().__init__()\n",
    "\n",
    "        channels = [64, 128, 256, 512]\n",
    "\n",
    "        def ConvInstanceNormLeakyReLUBlock(\n",
    "                in_channel,\n",
    "                out_channel,\n",
    "                normalize=True,\n",
    "                kernel_size=4,\n",
    "                stride=2,\n",
    "                padding=1,\n",
    "                activation=None\n",
    "        ):\n",
    "\n",
    "            layers =nn.ModuleList(\n",
    "                [nn.Conv2d(\n",
    "                    in_channel,\n",
    "                    out_channel,\n",
    "                    kernel_size=kernel_size,\n",
    "                    stride=stride,\n",
    "                    padding=padding,\n",
    "                    bias=False if normalize else True)]\n",
    "            )\n",
    "\n",
    "            if normalize:\n",
    "                layers.append(nn.BatchNorm2d(out_channel))\n",
    "\n",
    "            layers.append(nn.LeakyReLU(0.2, inplace=True) if activation is None else activation)\n",
    "\n",
    "            return layers\n",
    "\n",
    "        self.main = nn.Sequential(\n",
    "            *ConvInstanceNormLeakyReLUBlock(in_channel, channels[0], normalize=False),\n",
    "            *ConvInstanceNormLeakyReLUBlock(channels[0], channels[1]),\n",
    "            *ConvInstanceNormLeakyReLUBlock(channels[1], channels[2]),\n",
    "            *ConvInstanceNormLeakyReLUBlock(channels[2], channels[3], stride=1),\n",
    "            *ConvInstanceNormLeakyReLUBlock(channels[3], 1, normalize=False, stride=1, activation=nn.Sigmoid())\n",
    "        )\n",
    "\n",
    "    def forward(self,x):\n",
    "\n",
    "        return self.main(x)\n"
   ]
  },
  {
   "cell_type": "code",
   "execution_count": 6,
   "metadata": {
    "execution": {
     "iopub.execute_input": "2024-03-27T18:08:10.445817Z",
     "iopub.status.busy": "2024-03-27T18:08:10.445503Z",
     "iopub.status.idle": "2024-03-27T18:08:10.458582Z",
     "shell.execute_reply": "2024-03-27T18:08:10.457697Z",
     "shell.execute_reply.started": "2024-03-27T18:08:10.445787Z"
    },
    "trusted": true
   },
   "outputs": [],
   "source": [
    "import os\n",
    "import glob\n",
    "\n",
    "from PIL import Image\n",
    "from torch.utils.data import Dataset, DataLoader\n",
    "\n",
    "import torchvision\n",
    "from torchvision import transforms\n",
    "\n",
    "\n",
    "class MyDataset(Dataset):\n",
    "    def __init__(self, transform, mode='train'):\n",
    "        self.files_A = glob.glob(\"/kaggle/input/gan-getting-started/monet_jpg/*jpg\")\n",
    "        self.files_B = glob.glob(\"/kaggle/input/gan-getting-started/photo_jpg/*jpg\")\n",
    "        self.transform = transform\n",
    "        self.len_A = len(self.files_A)\n",
    "        self.len_B = len(self.files_B)\n",
    "\n",
    "    def __len__(self):\n",
    "        return max(self.len_A, self.len_B)\n",
    "\n",
    "    def __getitem__(self, idx):\n",
    "        i = idx % self.len_A\n",
    "        j = idx % self.len_B\n",
    "\n",
    "        img_A = Image.open(self.files_A[i])\n",
    "        img_B = Image.open(self.files_B[j])\n",
    "\n",
    "        return {\"A\": self.transform(img_A), \"B\": self.transform(img_B)}"
   ]
  },
  {
   "cell_type": "code",
   "execution_count": 7,
   "metadata": {
    "ExecuteTime": {
     "end_time": "2024-03-27T11:41:30.575485Z",
     "start_time": "2024-03-27T11:41:30.568514Z"
    },
    "execution": {
     "iopub.execute_input": "2024-03-27T18:08:10.460044Z",
     "iopub.status.busy": "2024-03-27T18:08:10.459715Z",
     "iopub.status.idle": "2024-03-27T18:08:10.472777Z",
     "shell.execute_reply": "2024-03-27T18:08:10.471911Z",
     "shell.execute_reply.started": "2024-03-27T18:08:10.460015Z"
    },
    "executionInfo": {
     "elapsed": 80,
     "status": "ok",
     "timestamp": 1711541021675,
     "user": {
      "displayName": "Guoshun Yu",
      "userId": "03697553051143014514"
     },
     "user_tz": -480
    },
    "id": "4a2be6688331b011",
    "trusted": true
   },
   "outputs": [],
   "source": [
    "import numpy as np\n",
    "from torch.utils import data\n",
    "from torch.utils.data import DataLoader\n",
    "import torchvision\n",
    "from torchvision import transforms\n",
    "\n",
    "from tqdm import tqdm\n",
    "import torch.optim as optim"
   ]
  },
  {
   "cell_type": "code",
   "execution_count": 8,
   "metadata": {
    "ExecuteTime": {
     "end_time": "2024-03-27T11:41:30.583983Z",
     "start_time": "2024-03-27T11:41:30.577494Z"
    },
    "execution": {
     "iopub.execute_input": "2024-03-27T18:08:10.589626Z",
     "iopub.status.busy": "2024-03-27T18:08:10.589349Z",
     "iopub.status.idle": "2024-03-27T18:08:10.594054Z",
     "shell.execute_reply": "2024-03-27T18:08:10.593169Z",
     "shell.execute_reply.started": "2024-03-27T18:08:10.589604Z"
    },
    "executionInfo": {
     "elapsed": 80,
     "status": "ok",
     "timestamp": 1711541021675,
     "user": {
      "displayName": "Guoshun Yu",
      "userId": "03697553051143014514"
     },
     "user_tz": -480
    },
    "id": "ac6ede346437f3aa",
    "trusted": true
   },
   "outputs": [],
   "source": [
    "LEARNING_RATE =2e-5\n",
    "BATCH_SIZE = 1\n",
    "NUM_EPOCHS = 30\n",
    "NUM_WORKERS = 2\n",
    "LAMBDA_CYCLE = 10\n",
    "DEVICE = torch.device(\"cuda\" if torch.cuda else \"cpu\")"
   ]
  },
  {
   "cell_type": "code",
   "execution_count": 9,
   "metadata": {
    "ExecuteTime": {
     "end_time": "2024-03-27T11:41:30.604589Z",
     "start_time": "2024-03-27T11:41:30.594745Z"
    },
    "execution": {
     "iopub.execute_input": "2024-03-27T18:08:10.596105Z",
     "iopub.status.busy": "2024-03-27T18:08:10.595764Z",
     "iopub.status.idle": "2024-03-27T18:08:10.608619Z",
     "shell.execute_reply": "2024-03-27T18:08:10.607797Z",
     "shell.execute_reply.started": "2024-03-27T18:08:10.596082Z"
    },
    "executionInfo": {
     "elapsed": 80,
     "status": "ok",
     "timestamp": 1711541021675,
     "user": {
      "displayName": "Guoshun Yu",
      "userId": "03697553051143014514"
     },
     "user_tz": -480
    },
    "id": "de8610471c2bcf75",
    "trusted": true
   },
   "outputs": [],
   "source": [
    "def train(disc_monet,\n",
    "          disc_photo,\n",
    "          monet_generator,\n",
    "          photo_generator,\n",
    "          loader,\n",
    "          opt_disc,\n",
    "          opt_gen,\n",
    "          L1,mse,\n",
    "          d_scaler\n",
    "          ):\n",
    "    \n",
    "    torch.cuda.empty_cache\n",
    "    monet_reals = 0\n",
    "    monet_fakes = 0\n",
    "    loop = tqdm(loader, leave=True)\n",
    "\n",
    "    for images in loop:\n",
    "        monet = images['A'].to(DEVICE)\n",
    "        photo = images['B'].to(DEVICE)\n",
    "\n",
    "        with torch.cuda.amp.autocast():\n",
    "            fake_monet = monet_generator(photo)\n",
    "            D_M_R = disc_monet(monet)\n",
    "            D_M_F = disc_monet(fake_monet.detach())\n",
    "            D_M_R_loss = mse(D_M_R, torch.ones_like(D_M_R))\n",
    "            D_M_F_loss = mse(D_M_F, torch.zeros_like(D_M_F))\n",
    "            D_M_loss = D_M_R_loss + D_M_F_loss\n",
    "\n",
    "            fake_photo = photo_generator(monet)\n",
    "            D_P_R = disc_photo(photo)\n",
    "            D_P_F = disc_photo(fake_photo.detach())\n",
    "            D_P_R_loss = mse(D_P_R, torch.ones_like(D_P_R))\n",
    "            D_P_F_loss = mse(D_P_F, torch.zeros_like(D_P_F))\n",
    "            D_P_loss = D_P_R_loss + D_P_F_loss\n",
    "\n",
    "            D_loss = (D_P_loss + D_M_loss) / 2\n",
    "\n",
    "        opt_disc.zero_grad()\n",
    "        d_scaler.scale(D_loss).backward()\n",
    "        d_scaler.step(opt_disc)\n",
    "        d_scaler.update()\n",
    "\n",
    "        with torch.cuda.amp.autocast():\n",
    "            D_M_F = disc_monet(fake_monet)\n",
    "            D_P_F = disc_photo(fake_photo)\n",
    "            loss_G_M = mse(D_M_F, torch.ones_like(D_M_F))\n",
    "            loss_G_P = mse(D_P_F, torch.ones_like(D_P_F))\n",
    "\n",
    "            cycle_photo = photo_generator(fake_monet)\n",
    "            cycle_monet = monet_generator(fake_photo)\n",
    "            cycle_photo_loss = L1(photo,cycle_photo)\n",
    "            cycle_monet_loss = L1(monet,cycle_monet)\n",
    "\n",
    "            G_loss = (loss_G_M+loss_G_P+\n",
    "                      cycle_photo_loss * LAMBDA_CYCLE+\n",
    "                      cycle_monet_loss * LAMBDA_CYCLE)\n",
    "\n",
    "        opt_gen.zero_grad()\n",
    "        g_scaler.scale(G_loss).backward()\n",
    "        g_scaler.step(opt_gen)\n",
    "        g_scaler.update()\n"
   ]
  },
  {
   "cell_type": "code",
   "execution_count": 10,
   "metadata": {
    "ExecuteTime": {
     "end_time": "2024-03-27T11:41:30.613600Z",
     "start_time": "2024-03-27T11:41:30.605595Z"
    },
    "execution": {
     "iopub.execute_input": "2024-03-27T18:08:10.609830Z",
     "iopub.status.busy": "2024-03-27T18:08:10.609594Z",
     "iopub.status.idle": "2024-03-27T18:08:10.622357Z",
     "shell.execute_reply": "2024-03-27T18:08:10.621441Z",
     "shell.execute_reply.started": "2024-03-27T18:08:10.609807Z"
    },
    "executionInfo": {
     "elapsed": 79,
     "status": "ok",
     "timestamp": 1711541021675,
     "user": {
      "displayName": "Guoshun Yu",
      "userId": "03697553051143014514"
     },
     "user_tz": -480
    },
    "id": "19e7f0d0d8e4b218",
    "trusted": true
   },
   "outputs": [],
   "source": [
    "def main():\n",
    "    disc_monet = Discriminator().to(DEVICE)\n",
    "    disc_photo = Discriminator().to(DEVICE)\n",
    "    monet_generator = Generator().to(DEVICE)\n",
    "    photo_generator = Generator().to(DEVICE)\n",
    "\n",
    "    opt_disc = optim.Adam(\n",
    "        list(disc_monet.parameters()) + list(disc_photo.parameters()),\n",
    "        lr=LEARNING_RATE,\n",
    "        betas=(0.5, 0.999),\n",
    "    )\n",
    "\n",
    "    opt_gen = optim.Adam(\n",
    "        list(monet_generator.parameters()) + list(photo_generator.parameters()),\n",
    "        lr=LEARNING_RATE,\n",
    "        betas=(0.5, 0.999),\n",
    "    )\n",
    "\n",
    "    L1 = nn.L1Loss()\n",
    "    mse = nn.MSELoss()\n",
    "    \n",
    "    train_transform = [\n",
    "    transforms.ToTensor(),\n",
    "    transforms.Normalize(mean=(0.5, 0.5, 0.5), \n",
    "    std=(0.5, 0.5, 0.5))\n",
    "    ]\n",
    "    \n",
    "    train_transform = transforms.Compose(train_transform)\n",
    "    train_data = MyDataset(train_transform)\n",
    "\n",
    "    loader = data.DataLoader(train_data, batch_size=BATCH_SIZE, shuffle=True,\n",
    "                                   num_workers=NUM_WORKERS)\n",
    "    \n",
    "    g_scaler = torch.cuda.amp.GradScaler()\n",
    "    d_scaler = torch.cuda.amp.GradScaler()\n",
    "\n",
    "    for epoch in range(NUM_EPOCHS):\n",
    "        train(disc_monet,\n",
    "          disc_photo,\n",
    "          monet_generator,\n",
    "          photo_generator,\n",
    "          loader,\n",
    "          opt_disc,\n",
    "          opt_gen,\n",
    "          L1,mse,\n",
    "          d_scaler)"
   ]
  },
  {
   "cell_type": "code",
   "execution_count": null,
   "metadata": {
    "trusted": true
   },
   "outputs": [],
   "source": []
  },
  {
   "cell_type": "code",
   "execution_count": 11,
   "metadata": {
    "execution": {
     "iopub.execute_input": "2024-03-27T18:08:29.024008Z",
     "iopub.status.busy": "2024-03-27T18:08:29.023242Z",
     "iopub.status.idle": "2024-03-27T18:08:29.184885Z",
     "shell.execute_reply": "2024-03-27T18:08:29.183632Z",
     "shell.execute_reply.started": "2024-03-27T18:08:29.023975Z"
    },
    "executionInfo": {
     "elapsed": 553,
     "status": "error",
     "timestamp": 1711541022149,
     "user": {
      "displayName": "Guoshun Yu",
      "userId": "03697553051143014514"
     },
     "user_tz": -480
    },
    "id": "e422ed88c4d0fab7",
    "is_executing": true,
    "outputId": "0d005982-74d7-4f74-ac25-f87cfd51d1d7",
    "trusted": true
   },
   "outputs": [
    {
     "ename": "ValueError",
     "evalue": "num_samples should be a positive integer value, but got num_samples=0",
     "output_type": "error",
     "traceback": [
      "\u001B[1;31m---------------------------------------------------------------------------\u001B[0m",
      "\u001B[1;31mValueError\u001B[0m                                Traceback (most recent call last)",
      "Cell \u001B[1;32mIn[11], line 1\u001B[0m\n\u001B[1;32m----> 1\u001B[0m main()\n",
      "Cell \u001B[1;32mIn[10], line 31\u001B[0m, in \u001B[0;36mmain\u001B[1;34m()\u001B[0m\n\u001B[0;32m     28\u001B[0m train_transform \u001B[38;5;241m=\u001B[39m transforms\u001B[38;5;241m.\u001B[39mCompose(train_transform)\n\u001B[0;32m     29\u001B[0m train_data \u001B[38;5;241m=\u001B[39m MyDataset(train_transform)\n\u001B[1;32m---> 31\u001B[0m loader \u001B[38;5;241m=\u001B[39m data\u001B[38;5;241m.\u001B[39mDataLoader(train_data, batch_size\u001B[38;5;241m=\u001B[39mBATCH_SIZE, shuffle\u001B[38;5;241m=\u001B[39m\u001B[38;5;28;01mTrue\u001B[39;00m,\n\u001B[0;32m     32\u001B[0m                                num_workers\u001B[38;5;241m=\u001B[39mNUM_WORKERS)\n\u001B[0;32m     34\u001B[0m g_scaler \u001B[38;5;241m=\u001B[39m torch\u001B[38;5;241m.\u001B[39mcuda\u001B[38;5;241m.\u001B[39mamp\u001B[38;5;241m.\u001B[39mGradScaler()\n\u001B[0;32m     35\u001B[0m d_scaler \u001B[38;5;241m=\u001B[39m torch\u001B[38;5;241m.\u001B[39mcuda\u001B[38;5;241m.\u001B[39mamp\u001B[38;5;241m.\u001B[39mGradScaler()\n",
      "File \u001B[1;32mc:\\Users\\14034\\.conda\\envs\\PyTorch\\Lib\\site-packages\\torch\\utils\\data\\dataloader.py:350\u001B[0m, in \u001B[0;36mDataLoader.__init__\u001B[1;34m(self, dataset, batch_size, shuffle, sampler, batch_sampler, num_workers, collate_fn, pin_memory, drop_last, timeout, worker_init_fn, multiprocessing_context, generator, prefetch_factor, persistent_workers, pin_memory_device)\u001B[0m\n\u001B[0;32m    348\u001B[0m \u001B[38;5;28;01melse\u001B[39;00m:  \u001B[38;5;66;03m# map-style\u001B[39;00m\n\u001B[0;32m    349\u001B[0m     \u001B[38;5;28;01mif\u001B[39;00m shuffle:\n\u001B[1;32m--> 350\u001B[0m         sampler \u001B[38;5;241m=\u001B[39m RandomSampler(dataset, generator\u001B[38;5;241m=\u001B[39mgenerator)  \u001B[38;5;66;03m# type: ignore[arg-type]\u001B[39;00m\n\u001B[0;32m    351\u001B[0m     \u001B[38;5;28;01melse\u001B[39;00m:\n\u001B[0;32m    352\u001B[0m         sampler \u001B[38;5;241m=\u001B[39m SequentialSampler(dataset)  \u001B[38;5;66;03m# type: ignore[arg-type]\u001B[39;00m\n",
      "File \u001B[1;32mc:\\Users\\14034\\.conda\\envs\\PyTorch\\Lib\\site-packages\\torch\\utils\\data\\sampler.py:143\u001B[0m, in \u001B[0;36mRandomSampler.__init__\u001B[1;34m(self, data_source, replacement, num_samples, generator)\u001B[0m\n\u001B[0;32m    140\u001B[0m     \u001B[38;5;28;01mraise\u001B[39;00m \u001B[38;5;167;01mTypeError\u001B[39;00m(\u001B[38;5;124mf\u001B[39m\u001B[38;5;124m\"\u001B[39m\u001B[38;5;124mreplacement should be a boolean value, but got replacement=\u001B[39m\u001B[38;5;132;01m{\u001B[39;00m\u001B[38;5;28mself\u001B[39m\u001B[38;5;241m.\u001B[39mreplacement\u001B[38;5;132;01m}\u001B[39;00m\u001B[38;5;124m\"\u001B[39m)\n\u001B[0;32m    142\u001B[0m \u001B[38;5;28;01mif\u001B[39;00m \u001B[38;5;129;01mnot\u001B[39;00m \u001B[38;5;28misinstance\u001B[39m(\u001B[38;5;28mself\u001B[39m\u001B[38;5;241m.\u001B[39mnum_samples, \u001B[38;5;28mint\u001B[39m) \u001B[38;5;129;01mor\u001B[39;00m \u001B[38;5;28mself\u001B[39m\u001B[38;5;241m.\u001B[39mnum_samples \u001B[38;5;241m<\u001B[39m\u001B[38;5;241m=\u001B[39m \u001B[38;5;241m0\u001B[39m:\n\u001B[1;32m--> 143\u001B[0m     \u001B[38;5;28;01mraise\u001B[39;00m \u001B[38;5;167;01mValueError\u001B[39;00m(\u001B[38;5;124mf\u001B[39m\u001B[38;5;124m\"\u001B[39m\u001B[38;5;124mnum_samples should be a positive integer value, but got num_samples=\u001B[39m\u001B[38;5;132;01m{\u001B[39;00m\u001B[38;5;28mself\u001B[39m\u001B[38;5;241m.\u001B[39mnum_samples\u001B[38;5;132;01m}\u001B[39;00m\u001B[38;5;124m\"\u001B[39m)\n",
      "\u001B[1;31mValueError\u001B[0m: num_samples should be a positive integer value, but got num_samples=0"
     ]
    }
   ],
   "source": [
    "main()"
   ]
  }
 ],
 "metadata": {
  "accelerator": "GPU",
  "colab": {
   "gpuType": "T4",
   "provenance": []
  },
  "kaggle": {
   "accelerator": "gpu",
   "dataSources": [
    {
     "databundleVersionId": 1475600,
     "sourceId": 21755,
     "sourceType": "competition"
    }
   ],
   "dockerImageVersionId": 30673,
   "isGpuEnabled": true,
   "isInternetEnabled": true,
   "language": "python",
   "sourceType": "notebook"
  },
  "kernelspec": {
   "display_name": "Python 3",
   "language": "python",
   "name": "python3"
  },
  "language_info": {
   "codemirror_mode": {
    "name": "ipython",
    "version": 3
   },
   "file_extension": ".py",
   "mimetype": "text/x-python",
   "name": "python",
   "nbconvert_exporter": "python",
   "pygments_lexer": "ipython3",
   "version": "3.11.8"
  }
 },
 "nbformat": 4,
 "nbformat_minor": 4
}
